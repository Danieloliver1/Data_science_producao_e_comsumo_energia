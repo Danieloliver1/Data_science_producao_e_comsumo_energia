{
  "cells": [
    {
      "cell_type": "markdown",
      "source": [
        "energia\n",
        "https://www.kaggle.com/datasets/akhiljethwa/world-energy-statistics\n",
        "\n",
        "\n",
        "---\n",
        "\n",
        "\n",
        "poluição\n",
        "https://www.kaggle.com/datasets/hasibalmuzdadid/global-air-pollution-dataset\n",
        "\n",
        "\n",
        "---\n",
        "\n",
        "\n",
        "sobre as unidades de medida \n",
        "https://www.bing.com/search?q=o+que+%C3%A9+a+unidade+quad&cvid=cbb0abeb3b694747a40c542d249ed506&aqs=edge..69i57.5342j0j9&FORM=ANAB01&PC=W099\n",
        "\n",
        "\n",
        "---\n",
        "\n",
        "\n",
        "acho que da pra converter aqui (porque os valores estão em medida britancia. sla.. quad)\n",
        "https://www.convertworld.com/pt/energia/unidade-termica-britanica.html\n",
        "\n",
        "\n",
        "---\n",
        "\n",
        "\n",
        "ggraficos \n",
        "https://www.delftstack.com/pt/api/python-pandas/pandas-dataframe-dataframe.plot.bar-function/\n",
        "https://www.kaggle.com/code/hanzla121/energy-in-flux-comparative-analysis\n",
        "https://dadosaocubo.com/visualizacao-de-dados-com-matplotlib-python/\n",
        "https://www.kaggle.com/code/hanzla121/energy-in-flux-comparative-analysis\n",
        "\n"
      ],
      "metadata": {
        "id": "mXdOyGVXJaXp"
      }
    },
    {
      "cell_type": "code",
      "execution_count": null,
      "metadata": {
        "id": "UBdJ0AHQgg30",
        "colab": {
          "base_uri": "https://localhost:8080/"
        },
        "outputId": "46eeb5f1-4a84-4abb-80f7-96dbb4fe04c1"
      },
      "outputs": [
        {
          "output_type": "stream",
          "name": "stdout",
          "text": [
            "Drive already mounted at /content/drive; to attempt to forcibly remount, call drive.mount(\"/content/drive\", force_remount=True).\n"
          ]
        }
      ],
      "source": [
        "from google.colab import drive\n",
        "drive.mount('/content/drive')"
      ]
    },
    {
      "cell_type": "markdown",
      "source": [
        "aula de pandas\n",
        "\n",
        "https://www.youtube.com/watch?v=wnGsAOPKjLo   \n",
        "\n",
        "https://www.kaggle.com/code/joaoavf/introducao-a-analise-de-dados-python-e-pandas#Visualizando-Categorias\n",
        "\n",
        "\n",
        "documentação\n",
        "\n",
        "https://pandas.pydata.org/docs/getting_started/intro_tutorials/03_subset_data.html#min-tut-03-subset"
      ],
      "metadata": {
        "id": "K3mdTbXEHvCx"
      }
    },
    {
      "cell_type": "markdown",
      "source": [
        "# Bases de dados sobre a produção e consumo de energia \n"
      ],
      "metadata": {
        "id": "rDfPSkz68nD4"
      }
    },
    {
      "cell_type": "code",
      "execution_count": null,
      "metadata": {
        "id": "un2EPbyxpmhf"
      },
      "outputs": [],
      "source": [
        "import pandas as pd\n",
        "\n",
        "#para tratamento de graficos \n",
        "import matplotlib.pyplot as plt"
      ]
    },
    {
      "cell_type": "markdown",
      "source": [
        "1. Ler o arquivo no drive\n",
        "2. converte as coluas dos anos para float \n",
        "3. mostra ordenado pelo consumo total do menor para o maior \n",
        "4. agrupa por continente e mostra o total por cada continente"
      ],
      "metadata": {
        "id": "jFU_nMYAaogM"
      }
    },
    {
      "cell_type": "code",
      "source": [
        "#mostrar informações\n",
        "#display(dataconsu.info())\n",
        "\n",
        "#mostrar tudo\n",
        "#display(dataconsu)"
      ],
      "metadata": {
        "id": "lZ5Yw2ySHuvh"
      },
      "execution_count": null,
      "outputs": []
    },
    {
      "cell_type": "code",
      "source": [
        "dataconsu = pd.read_csv('/content/drive/MyDrive/DataSets/Consumo_Total.csv')\n",
        "dataprodu = pd.read_csv('/content/drive/MyDrive/DataSets/Producao_Total.csv')\n",
        "\n",
        "\n",
        "dataconsu = dataconsu[[\"Continent\",\"Country\",\"2010\", \"2011\",\"2012\", \"2013\", \"2014\", \"2015\", \"2016\", \"2017\", \"2018\", \"2019\",\"2020\", \"2021\",\"Total_Consumption\"]]\n",
        "dataprodu = dataprodu[[\"Continent\",\"Country\",\"2010\", \"2011\",\"2012\", \"2013\", \"2014\", \"2015\", \"2016\", \"2017\", \"2018\", \"2019\",\"2020\", \"2021\",\"Total_production\"]]\n",
        "dataconsu = dataconsu.sort_values(by='Country')\n",
        "dataprodu = dataprodu.sort_values(by='Country')\n",
        "\n",
        "\n",
        "converterprod  =[\"2010\", \"2011\",\"2012\", \"2013\", \"2014\", \"2015\", \"2016\", \"2017\", \"2018\", \"2019\",\"2020\", \"2021\",\"Total_production\"]\n",
        "converterconsu =[\"2010\", \"2011\",\"2012\", \"2013\", \"2014\", \"2015\", \"2016\", \"2017\", \"2018\", \"2019\",\"2020\", \"2021\",\"Total_Consumption\"]\n",
        "\n",
        "#converte as coluans acima em float \n",
        "dataconsu[converterconsu] = dataconsu[converterconsu].replace(['--','---','in'], ['0', '0','0'])\n",
        "dataprodu[converterprod] = dataprodu[converterprod].replace(['--','---','in'], ['0', '0','0'])\n",
        "dataconsu[converterconsu] = dataconsu[converterconsu].astype(float, errors = 'raise')\n",
        "dataprodu[converterprod] = dataprodu[converterprod].astype(float, errors = 'raise')\n",
        "\n",
        "\n",
        "\n",
        "display(dataconsu)\n",
        "display(dataprodu)"
      ],
      "metadata": {
        "id": "tO9hZYhrFnU7"
      },
      "execution_count": null,
      "outputs": []
    },
    {
      "cell_type": "code",
      "source": [
        "\n",
        "#CONSUMO\n",
        "# ordenar por valor de consumo total, crescente\n",
        "display(dataconsu.sort_values(by='Total_Consumption'))\n",
        "\n",
        "\n",
        "# agrupar consumo total por continente e mostrar\n",
        "agrconsu =['Total_Consumption','Continent']\n",
        "mostraconsu = dataconsu[agrconsu].groupby('Continent').sum()\n",
        "display(mostraconsu.sort_values(by='Total_Consumption'))\n",
        "\n"
      ],
      "metadata": {
        "id": "xCDCG8gwaivJ"
      },
      "execution_count": null,
      "outputs": []
    },
    {
      "cell_type": "code",
      "source": [
        "#PRODUCAO\n",
        "\n",
        "# ordenar por valor de produção total, crescente\n",
        "display(dataprodu.sort_values(by='Total_production'))\n",
        "\n",
        "# agrupar producao total por continente e mostrar  \n",
        "agrprod =['Total_production','Continent']\n",
        "mostraprod = dataprodu[agrprod].groupby('Continent').sum()\n",
        "display(mostraprod.sort_values(by='Total_production'))\n",
        "\n"
      ],
      "metadata": {
        "id": "j2GLvzdsZTqZ"
      },
      "execution_count": null,
      "outputs": []
    },
    {
      "cell_type": "code",
      "source": [
        "dataframe = pd.DataFrame(mostraconsu.sort_values(by='Continent'))\n",
        "axis = dataframe.plot.bar( rot=90, color=['g'])\n",
        "print(axis)\n",
        "plt.show()"
      ],
      "metadata": {
        "id": "yrndoR_gdos5"
      },
      "execution_count": null,
      "outputs": []
    },
    {
      "cell_type": "code",
      "source": [
        "dataframe = pd.DataFrame(mostraprod.sort_values(by='Continent'))\n",
        "axis = dataframe.plot.bar( rot=9, color=['g'])\n",
        "print(axis)\n",
        "plt.show()"
      ],
      "metadata": {
        "id": "O9wkjYWLM1cY"
      },
      "execution_count": null,
      "outputs": []
    },
    {
      "cell_type": "code",
      "source": [
        "#filtrar por string\n",
        "display(dataprodu.query('Country.str.contains(\"Argentina\") | Country.str.contains(\"Bolivia\")| \\\n",
        "                         Country.str.contains(\"Brazil\") | Country.str.contains(\"Chile\")| \\\n",
        "                         Country.str.contains(\"Colombia\") | Country.str.contains(\"Ecuador\")|\\\n",
        "                         Country.str.contains(\"Suriname\") | Country.str.contains(\"Venezuela\")|\\\n",
        "                         Country.str.contains(\"French Guiana\") | Country.str.contains(\"Guyana\")|\\\n",
        "                         Country.str.contains(\"Uruguay\") | Country.str.contains(\"Paraguay\") | Country.str.contains(\"Peru\")'))"
      ],
      "metadata": {
        "id": "o3R5rCwsN6e_"
      },
      "execution_count": null,
      "outputs": []
    },
    {
      "cell_type": "markdown",
      "source": [
        "# Base de dados sobre a poluição\n"
      ],
      "metadata": {
        "id": "eRSbq4Yt8tff"
      }
    },
    {
      "cell_type": "code",
      "source": [
        "# TESTE DA BASE AMBIENTAL POLUIÇÃO\n",
        "#https://www.kaggle.com/datasets/justin2028/total-emissions-per-country-2000-2020\n",
        "#https://www.kaggle.com/code/victorvieirat/eda-total-emissions-per-country-2000-2020 notbook\n",
        "\n",
        "# esse da pra usar como \n",
        "datapopu = pd.read_csv('/content/Total Emissions Per Country (2000-2020).csv')\n",
        "display(datapopu.info())\n",
        "agrup = datapopu[['Element','2015']].groupby(\"Element\").sum()\n",
        "\n",
        "datapopu = datapopu[[\"Area\", \"Item\" , \"Unit\" ,\"2015\", \"2016\", \"2017\", \"2018\", \"2019\",\"2020\"]].query(\\\n",
        "                        'Area.str.contains(\"Argentina\") | Area.str.contains(\"Bolivia\")| \\\n",
        "                         Area.str.contains(\"Brazil\") | Area.str.contains(\"Chile\")| \\\n",
        "                         Area.str.contains(\"Colombia\") | Area.str.contains(\"Ecuador\")|\\\n",
        "                         Area.str.contains(\"Suriname\") | Area.str.contains(\"Venezuela\")|\\\n",
        "                         Area.str.contains(\"French Guiana\") | Area.str.contains(\"Guyana\")|\\\n",
        "                         Area.str.contains(\"Uruguay\") | Area.str.contains(\"Paraguay\") | Area.str.contains(\"Peru\")')\n",
        "\n",
        "\n",
        "display(datapopu)\n",
        "\n",
        "\n",
        "\n",
        "display(agrup)\n"
      ],
      "metadata": {
        "id": "fUo0IPWMM08h"
      },
      "execution_count": null,
      "outputs": []
    }
  ],
  "metadata": {
    "colab": {
      "provenance": []
    },
    "kernelspec": {
      "display_name": "Python 3",
      "name": "python3"
    },
    "language_info": {
      "name": "python"
    }
  },
  "nbformat": 4,
  "nbformat_minor": 0
}